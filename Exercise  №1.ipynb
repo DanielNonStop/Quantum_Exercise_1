{
 "cells": [
  {
   "cell_type": "markdown",
   "id": "placed-ready",
   "metadata": {},
   "source": [
    "Exercise №1"
   ]
  },
  {
   "cell_type": "code",
   "execution_count": 1,
   "id": "sufficient-girlfriend",
   "metadata": {},
   "outputs": [],
   "source": [
    "import numpy as np"
   ]
  },
  {
   "cell_type": "code",
   "execution_count": 2,
   "id": "searching-behavior",
   "metadata": {},
   "outputs": [
    {
     "name": "stdout",
     "output_type": "stream",
     "text": [
      "Enter positive integer number N: 10\n",
      "Sum: 55\n",
      "Sum: 55\n"
     ]
    }
   ],
   "source": [
    "try:\n",
    "    N = int(input('Enter positive integer number N: '))\n",
    "    if N <= 0 :\n",
    "        raise ValueError\n",
    "        \n",
    "    print(f'Sum: {sum([i for i in range(0,N+1)])}')\n",
    "    \n",
    "    result = 0\n",
    "    for i in range(0, N+1):\n",
    "        result += i\n",
    "    print(f'Sum: {result}')\n",
    "    \n",
    "except ValueError:\n",
    "    print('Number is incorrect')"
   ]
  },
  {
   "cell_type": "code",
   "execution_count": null,
   "id": "monetary-quality",
   "metadata": {},
   "outputs": [],
   "source": []
  }
 ],
 "metadata": {
  "kernelspec": {
   "display_name": "Python 3",
   "language": "python",
   "name": "python3"
  },
  "language_info": {
   "codemirror_mode": {
    "name": "ipython",
    "version": 3
   },
   "file_extension": ".py",
   "mimetype": "text/x-python",
   "name": "python",
   "nbconvert_exporter": "python",
   "pygments_lexer": "ipython3",
   "version": "3.8.5"
  }
 },
 "nbformat": 4,
 "nbformat_minor": 5
}
